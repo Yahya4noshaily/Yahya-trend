
{
 "cells": [
  {
   "cell_type": "markdown",
   "metadata": {},
   "source": [
    "# 📊 SmartChart AI\n",
    "تحليل ذكي للاتجاهات والمؤشرات والدعم/المقاومة من صورة الشارت باستخدام OpenCV و OCR"
   ]
  },
  {
   "cell_type": "code",
   "execution_count": null,
   "metadata": {},
   "outputs": [],
   "source": [
    "# ✅ تثبيت المكتبات المطلوبة\n",
    "!pip install opencv-python pytesseract matplotlib numpy --quiet"
   ]
  },
  {
   "cell_type": "code",
   "execution_count": null,
   "metadata": {},
   "outputs": [],
   "source": [
    "# ✅ استيراد المكتبات\n",
    "import cv2\n",
    "import pytesseract\n",
    "import numpy as np\n",
    "import matplotlib.pyplot as plt\n",
    "from PIL import Image\n",
    "from google.colab import files"
   ]
  },
  {
   "cell_type": "code",
   "execution_count": null,
   "metadata": {},
   "outputs": [],
   "source": [
    "# ✅ رفع صورة الشارت\n",
    "uploaded = files.upload()\n",
    "for fn in uploaded:\n",
    "    image_path = fn\n",
    "    print(f"📁 تم تحميل: {fn}")"
   ]
  },
  {
   "cell_type": "code",
   "execution_count": null,
   "metadata": {},
   "outputs": [],
   "source": [
    "# ✅ تحميل الصورة والتحضير\n",
    "img = cv2.imread(image_path)\n",
    "img_rgb = cv2.cvtColor(img, cv2.COLOR_BGR2RGB)\n",
    "gray = cv2.cvtColor(img, cv2.COLOR_BGR2GRAY)"
   ]
  },
  {
   "cell_type": "code",
   "execution_count": null,
   "metadata": {},
   "outputs": [],
   "source": [
    "# ✅ استخراج النصوص من الصورة\n",
    "text = pytesseract.image_to_string(gray)\n",
    "print("📄 النص المستخرج:")\n",
    "print(text)"
   ]
  },
  {
   "cell_type": "code",
   "execution_count": null,
   "metadata": {},
   "outputs": [],
   "source": [
    "# ✅ تحليل المؤشرات الفنية\n",
    "if "RSI" in text:\n",
    "    print("🧠 RSI موجود: إذا كانت القيمة أعلى من 70 تشبع شرائي، أقل من 30 تشبع بيعي")\n",
    "if "MACD" in text:\n",
    "    print("🧠 MACD موجود: تحقق من تقاطع الخطوط لتأكيد الاتجاه")\n",
    "if "EMA" in text or "MA" in text:\n",
    "    print("🧠 المتوسطات متاحة: تقاطعات تعطي إشارات صعود وهبوط")"
   ]
  },
  {
   "cell_type": "code",
   "execution_count": null,
   "metadata": {},
   "outputs": [],
   "source": [
    "# ✅ اكتشاف خطوط الاتجاه\n",
    "edges = cv2.Canny(gray, 50, 150, apertureSize=3)\n",
    "lines = cv2.HoughLinesP(edges, 1, np.pi/180, 100, minLineLength=100, maxLineGap=10)\n",
    "up_trend = 0\n",
    "down_trend = 0\n",
    "horizontal_lines = []\n",
    "if lines is not None:\n",
    "    for line in lines:\n",
    "        x1, y1, x2, y2 = line[0]\n",
    "        if abs(y2 - y1) < 10:\n",
    "            horizontal_lines.append((x1, y1, x2, y2))\n",
    "            cv2.line(img_rgb, (x1, y1), (x2, y2), (255, 0, 0), 2)\n",
    "        elif y2 < y1:\n",
    "            up_trend += 1\n",
    "        elif y2 > y1:\n",
    "            down_trend += 1"
   ]
  },
  {
   "cell_type": "code",
   "execution_count": null,
   "metadata": {},
   "outputs": [],
   "source": [
    "# ✅ عرض الصورة مع الخطوط\n",
    "plt.figure(figsize=(12,6))\n",
    "plt.imshow(img_rgb)\n",
    "plt.title("📈 الشارت بعد تحليل الاتجاه والدعم/المقاومة")\n",
    "plt.axis('off')\n",
    "plt.show()"
   ]
  },
  {
   "cell_type": "code",
   "execution_count": null,
   "metadata": {},
   "outputs": [],
   "source": [
    "# ✅ طباعة مستويات الدعم والمقاومة\n",
    "if horizontal_lines:\n",
    "    levels = sorted(set([y for x1, y, x2, y2 in horizontal_lines]))\n",
    "    print("📌 مناطق الدعم والمقاومة:")\n",
    "    for level in levels:\n",
    "        print(f"- مستوى عند Y = {level}")\n",
    "else:\n",
    "    print("❌ لم يتم اكتشاف دعم أو مقاومة واضحة")"
   ]
  },
  {
   "cell_type": "code",
   "execution_count": null,
   "metadata": {},
   "outputs": [],
   "source": [
    "# ✅ التحليل النهائي\n",
    "print("\n🔎 التحليل النهائي:")\n",
    "if up_trend > down_trend:\n",
    "    print("🔼 الاتجاه العام صاعد")\n",
    "elif down_trend > up_trend:\n",
    "    print("🔽 الاتجاه العام هابط")\n",
    "else:\n",
    "    print("➖ الاتجاه عرضي")\n",
    "if "RSI" in text or "MACD" in text:\n",
    "    print("📊 مؤشرات فنية مستخدمة في الشارت")"
   ]
  }
 ],
 "metadata": {
  "colab": {
   "name": "SmartChart_AI.ipynb",
   "provenance": []
  },
  "kernelspec": {
   "display_name": "Python 3",
   "language": "python",
   "name": "python3"
  },
  "language_info": {
   "name": "python"
  }
 },
 "nbformat": 4,
 "nbformat_minor": 0
}
